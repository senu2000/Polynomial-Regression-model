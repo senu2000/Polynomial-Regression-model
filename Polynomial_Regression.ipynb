{
  "nbformat": 4,
  "nbformat_minor": 0,
  "metadata": {
    "colab": {
      "provenance": [],
      "authorship_tag": "ABX9TyNxX3SPR29gaLM+86/mLnaR",
      "include_colab_link": true
    },
    "kernelspec": {
      "name": "python3",
      "display_name": "Python 3"
    },
    "language_info": {
      "name": "python"
    }
  },
  "cells": [
    {
      "cell_type": "markdown",
      "metadata": {
        "id": "view-in-github",
        "colab_type": "text"
      },
      "source": [
        "<a href=\"https://colab.research.google.com/github/senu2000/Polynomial-Regression-model/blob/main/Polynomial_Regression.ipynb\" target=\"_parent\"><img src=\"https://colab.research.google.com/assets/colab-badge.svg\" alt=\"Open In Colab\"/></a>"
      ]
    },
    {
      "cell_type": "markdown",
      "source": [
        "# Generating Dataset"
      ],
      "metadata": {
        "id": "m_BFQrdOtXzu"
      }
    },
    {
      "cell_type": "code",
      "execution_count": 13,
      "metadata": {
        "id": "fhtE8dnLtIqm"
      },
      "outputs": [],
      "source": [
        "import numpy as np\n",
        "\n",
        "np.random.seed(0)\n",
        "x = 1 + 2 * np.random.normal(0, 1, 1000)\n",
        "y = x + 1.5 * (x ** 2) + 0.8 * (x ** 3) + np.random.normal(0, 3, 1000)"
      ]
    },
    {
      "cell_type": "code",
      "source": [
        "import matplotlib.pyplot as plt\n",
        "\n",
        "plt.scatter(x, y, s=10)\n",
        "plt.xlabel('x')\n",
        "plt.ylabel('y')\n",
        "plt.show()"
      ],
      "metadata": {
        "colab": {
          "base_uri": "https://localhost:8080/",
          "height": 449
        },
        "id": "SEjs8LyjuNQX",
        "outputId": "d8be12a2-095e-4a14-e325-ad61d2fb9665"
      },
      "execution_count": 14,
      "outputs": [
        {
          "output_type": "display_data",
          "data": {
            "text/plain": [
              "<Figure size 640x480 with 1 Axes>"
            ],
            "image/png": "[encoded data removed]"
          },
          "metadata": {}
        }
      ]
    },
    {
      "cell_type": "code",
      "source": [
        "from sklearn.model_selection import train_test_split\n",
        "\n",
        "x = x[:, np.newaxis]\n",
        "y = y[:, np.newaxis]\n",
        "\n",
        "x_train, x_test, y_train, y_test = train_test_split(x, y, test_size=0.2, random_state=1)\n",
        "x_train, x_val, y_train, y_val = train_test_split(x_train, y_train, test_size=0.25, random_state=1)"
      ],
      "metadata": {
        "id": "WA1yd_x6uaEf"
      },
      "execution_count": 15,
      "outputs": []
    },
    {
      "cell_type": "markdown",
      "source": [
        "Train Simple Linear Regression Model"
      ],
      "metadata": {
        "id": "JC20BJhFxIwt"
      }
    },
    {
      "cell_type": "code",
      "source": [
        "from sklearn.linear_model import LinearRegression\n",
        "\n",
        "model = LinearRegression()\n",
        "model.fit(x_train, y_train)\n",
        "\n",
        "print('Degree 1 - Training error:', model.score(x_train, y_train))\n",
        "print('Degree 1 - Validation error:', model.score(x_val, y_val))"
      ],
      "metadata": {
        "colab": {
          "base_uri": "https://localhost:8080/"
        },
        "id": "D029cLn6wwiD",
        "outputId": "c74f48b2-696f-481f-ef3f-b1ea85f17b3d"
      },
      "execution_count": 16,
      "outputs": [
        {
          "output_type": "stream",
          "name": "stdout",
          "text": [
            "Degree 1 - Training error: 0.6112766542009314\n",
            "Degree 1 - Validation error: 0.578092525888924\n"
          ]
        }
      ]
    },
    {
      "cell_type": "markdown",
      "source": [
        "# Train Polynomial Regression model"
      ],
      "metadata": {
        "id": "Tpqb-3clyxmd"
      }
    },
    {
      "cell_type": "code",
      "source": [
        "from sklearn.preprocessing import PolynomialFeatures\n",
        "\n",
        "poly_regr = PolynomialFeatures(degree=2)\n",
        "x_poly2 = poly_regr.fit_transform(x_train)\n",
        "\n",
        "model2 = LinearRegression()\n",
        "model2.fit(x_poly2, y_train)\n",
        "\n",
        "x_poly_val2 = poly_regr.fit_transform(x_val)\n",
        "\n",
        "print('Degree 2 - Training error:', model2.score(x_poly2, y_train))\n",
        "print('Degree 2 - Validation error:', model2.score(x_poly_val2, y_val))"
      ],
      "metadata": {
        "colab": {
          "base_uri": "https://localhost:8080/"
        },
        "id": "r7Nri6HxxypV",
        "outputId": "aa28dc12-bf44-4a76-c7a5-1979db9367a5"
      },
      "execution_count": 20,
      "outputs": [
        {
          "output_type": "stream",
          "name": "stdout",
          "text": [
            "Degree 2 - Training error: 0.8901821639950546\n",
            "Degree 2 - Validation error: 0.8567139925783426\n"
          ]
        }
      ]
    },
    {
      "cell_type": "code",
      "source": [
        "poly_regr = PolynomialFeatures(degree=3)\n",
        "x_poly3 = poly_regr.fit_transform(x_train)\n",
        "\n",
        "model3 = LinearRegression()\n",
        "model3.fit(x_poly3, y_train)\n",
        "\n",
        "x_poly_val3 = poly_regr.fit_transform(x_val)\n",
        "\n",
        "print('Degree 3 - Training error:', model3.score(x_poly3, y_train))\n",
        "print('Degree 3 - Validation error:', model3.score(x_poly_val3, y_val))"
      ],
      "metadata": {
        "colab": {
          "base_uri": "https://localhost:8080/"
        },
        "id": "lYhC5Jw90q3V",
        "outputId": "5f9abdc9-dc6a-499b-d1b7-6554c96a8e0c"
      },
      "execution_count": 22,
      "outputs": [
        {
          "output_type": "stream",
          "name": "stdout",
          "text": [
            "Degree 3 - Training error: 0.9941068693023871\n",
            "Degree 3 - Validation error: 0.9941018868235563\n"
          ]
        }
      ]
    },
    {
      "cell_type": "code",
      "source": [
        "poly_regr = PolynomialFeatures(degree=20)\n",
        "x_poly20 = poly_regr.fit_transform(x_train)\n",
        "\n",
        "model20 = LinearRegression()\n",
        "model20.fit(x_poly20, y_train)\n",
        "\n",
        "print('Degree 20 - Training error:', model20.score(x_poly20, y_train))\n",
        "print('Degree 20 - Validation error:', model20.score(poly_regr.fit_transform(x_val), y_val))\n"
      ],
      "metadata": {
        "colab": {
          "base_uri": "https://localhost:8080/"
        },
        "id": "V_Imx5Bz1Nye",
        "outputId": "d0722f25-b69a-498d-c7e6-559737c1105f"
      },
      "execution_count": 19,
      "outputs": [
        {
          "output_type": "stream",
          "name": "stdout",
          "text": [
            "Degree 20 - Training error: 0.9941895841703763\n",
            "Degree 20 - Validation error: 0.6575018123469116\n"
          ]
        }
      ]
    },
    {
      "cell_type": "code",
      "source": [
        "plt.scatter(x_val, y_val, color='red')\n",
        "plt.plot(x_val, model.predict(x_val), color='blue')\n",
        "\n",
        "x2,y2 = zip(*sorted(zip(x_val, model2.predict(x_poly_val2)), key=lambda x: x[0]))\n",
        "plt.plot(x2,y2, color='green')\n",
        "\n",
        "x3,y3 = zip(*sorted(zip(x_val, model3.predict(x_poly_val3)), key=lambda x: x[0]))\n",
        "plt.plot(x3,y3, color='black')\n",
        "\n",
        "plt.title('Regression')\n",
        "plt.xlabel('x')\n",
        "plt.ylabel('y')\n",
        "plt.show()"
      ],
      "metadata": {
        "colab": {
          "base_uri": "https://localhost:8080/",
          "height": 472
        },
        "id": "937akX4p9tVU",
        "outputId": "b8ec704e-1af0-485a-ebe2-f50d21c41315"
      },
      "execution_count": 26,
      "outputs": [
        {
          "output_type": "display_data",
          "data": {
            "text/plain": [
              "<Figure size 640x480 with 1 Axes>"
            ],
            "image/png": "[encoded data removed]"
          },
          "metadata": {}
        }
      ]
    },
    {
      "cell_type": "markdown",
      "source": [
        "Evaluate the final performance"
      ],
      "metadata": {
        "id": "N4dkadEPTGGP"
      }
    },
    {
      "cell_type": "code",
      "source": [
        "poly_regr = PolynomialFeatures(degree=3)\n",
        "x_poly_test3 = poly_regr.fit_transform(x_test)\n",
        "\n",
        "model3.score(x_poly_test3, y_test)"
      ],
      "metadata": {
        "colab": {
          "base_uri": "https://localhost:8080/"
        },
        "id": "PKsmeIXXPj40",
        "outputId": "2717d526-94e5-4de8-a6e9-a1162720e123"
      },
      "execution_count": 27,
      "outputs": [
        {
          "output_type": "execute_result",
          "data": {
            "text/plain": [
              "0.9943846230082006"
            ]
          },
          "metadata": {},
          "execution_count": 27
        }
      ]
    },
    {
      "cell_type": "code",
      "source": [],
      "metadata": {
        "id": "KqZ_qOXMTCLX"
      },
      "execution_count": null,
      "outputs": []
    }
  ]
}